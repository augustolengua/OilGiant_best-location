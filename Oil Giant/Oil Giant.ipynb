{
 "cells": [
  {
   "cell_type": "markdown",
   "metadata": {},
   "source": [
    "# Descripcipción del proyecto"
   ]
  },
  {
   "cell_type": "markdown",
   "metadata": {},
   "source": [
    "La finalidad del proyecto es encontrar el mejor lugar para un nuevo pozo para la compañía minera OilGiant.\n",
    "\n",
    "Se recolectaron los parámetros del pozo de petróleo en la región seleccionada (calidad del petróleo y volumen de reservas) y se construyó un modelo para predecir el volumen de reservas en los nuevos pozos seleccionando los pozos de petróleo con los valores estimados más altos."
   ]
  },
  {
   "cell_type": "markdown",
   "metadata": {},
   "source": [
    "## Información general"
   ]
  },
  {
   "cell_type": "markdown",
   "metadata": {},
   "source": [
    "### Inicialización"
   ]
  },
  {
   "cell_type": "code",
   "execution_count": 102,
   "metadata": {},
   "outputs": [],
   "source": [
    "import pandas as pd \n",
    "import numpy as np\n",
    "from sklearn.preprocessing import StandardScaler\n",
    "from sklearn.model_selection import train_test_split\n",
    "from sklearn.linear_model import LinearRegression\n",
    "from sklearn.metrics import mean_squared_error"
   ]
  },
  {
   "cell_type": "markdown",
   "metadata": {},
   "source": [
    "Leemos los tres conjuntos de datos. Los datasets contienen información acerca del volumen de reservas por cada pozo de petróleo. Contiene las siguientes columnas:\n",
    "\n",
    "- id — identificador único de pozo de petróleo\n",
    "- f0, f1, f2 — tres características de los puntos (su significado específico no es importante, pero las características en sí son significativas)\n",
    "- product — volumen de reservas en el pozo de petróleo (miles de barriles).\n",
    "\n",
    "La columna 'product' será la variable objetivo en los modelos."
   ]
  },
  {
   "cell_type": "code",
   "execution_count": 42,
   "metadata": {
    "scrolled": true
   },
   "outputs": [
    {
     "name": "stdout",
     "output_type": "stream",
     "text": [
      "<class 'pandas.core.frame.DataFrame'>\n",
      "RangeIndex: 100000 entries, 0 to 99999\n",
      "Data columns (total 5 columns):\n",
      " #   Column   Non-Null Count   Dtype  \n",
      "---  ------   --------------   -----  \n",
      " 0   id       100000 non-null  object \n",
      " 1   f0       100000 non-null  float64\n",
      " 2   f1       100000 non-null  float64\n",
      " 3   f2       100000 non-null  float64\n",
      " 4   product  100000 non-null  float64\n",
      "dtypes: float64(4), object(1)\n",
      "memory usage: 3.8+ MB\n"
     ]
    }
   ],
   "source": [
    "try:\n",
    "    data_0=pd.read_csv('geo_data_0.csv')\n",
    "except:\n",
    "    data_0=pd.read_csv('/datasets/geo_data_0.csv')\n",
    "data_0.info()"
   ]
  },
  {
   "cell_type": "code",
   "execution_count": 43,
   "metadata": {
    "scrolled": false
   },
   "outputs": [
    {
     "data": {
      "text/html": [
       "<div>\n",
       "<style scoped>\n",
       "    .dataframe tbody tr th:only-of-type {\n",
       "        vertical-align: middle;\n",
       "    }\n",
       "\n",
       "    .dataframe tbody tr th {\n",
       "        vertical-align: top;\n",
       "    }\n",
       "\n",
       "    .dataframe thead th {\n",
       "        text-align: right;\n",
       "    }\n",
       "</style>\n",
       "<table border=\"1\" class=\"dataframe\">\n",
       "  <thead>\n",
       "    <tr style=\"text-align: right;\">\n",
       "      <th></th>\n",
       "      <th>f0</th>\n",
       "      <th>f1</th>\n",
       "      <th>f2</th>\n",
       "      <th>product</th>\n",
       "    </tr>\n",
       "  </thead>\n",
       "  <tbody>\n",
       "    <tr>\n",
       "      <th>count</th>\n",
       "      <td>100000.000000</td>\n",
       "      <td>100000.000000</td>\n",
       "      <td>100000.000000</td>\n",
       "      <td>100000.000000</td>\n",
       "    </tr>\n",
       "    <tr>\n",
       "      <th>mean</th>\n",
       "      <td>0.500419</td>\n",
       "      <td>0.250143</td>\n",
       "      <td>2.502647</td>\n",
       "      <td>92.500000</td>\n",
       "    </tr>\n",
       "    <tr>\n",
       "      <th>std</th>\n",
       "      <td>0.871832</td>\n",
       "      <td>0.504433</td>\n",
       "      <td>3.248248</td>\n",
       "      <td>44.288691</td>\n",
       "    </tr>\n",
       "    <tr>\n",
       "      <th>min</th>\n",
       "      <td>-1.408605</td>\n",
       "      <td>-0.848218</td>\n",
       "      <td>-12.088328</td>\n",
       "      <td>0.000000</td>\n",
       "    </tr>\n",
       "    <tr>\n",
       "      <th>25%</th>\n",
       "      <td>-0.072580</td>\n",
       "      <td>-0.200881</td>\n",
       "      <td>0.287748</td>\n",
       "      <td>56.497507</td>\n",
       "    </tr>\n",
       "    <tr>\n",
       "      <th>50%</th>\n",
       "      <td>0.502360</td>\n",
       "      <td>0.250252</td>\n",
       "      <td>2.515969</td>\n",
       "      <td>91.849972</td>\n",
       "    </tr>\n",
       "    <tr>\n",
       "      <th>75%</th>\n",
       "      <td>1.073581</td>\n",
       "      <td>0.700646</td>\n",
       "      <td>4.715088</td>\n",
       "      <td>128.564089</td>\n",
       "    </tr>\n",
       "    <tr>\n",
       "      <th>max</th>\n",
       "      <td>2.362331</td>\n",
       "      <td>1.343769</td>\n",
       "      <td>16.003790</td>\n",
       "      <td>185.364347</td>\n",
       "    </tr>\n",
       "  </tbody>\n",
       "</table>\n",
       "</div>"
      ],
      "text/plain": [
       "                  f0             f1             f2        product\n",
       "count  100000.000000  100000.000000  100000.000000  100000.000000\n",
       "mean        0.500419       0.250143       2.502647      92.500000\n",
       "std         0.871832       0.504433       3.248248      44.288691\n",
       "min        -1.408605      -0.848218     -12.088328       0.000000\n",
       "25%        -0.072580      -0.200881       0.287748      56.497507\n",
       "50%         0.502360       0.250252       2.515969      91.849972\n",
       "75%         1.073581       0.700646       4.715088     128.564089\n",
       "max         2.362331       1.343769      16.003790     185.364347"
      ]
     },
     "execution_count": 43,
     "metadata": {},
     "output_type": "execute_result"
    }
   ],
   "source": [
    "data_0.describe()"
   ]
  },
  {
   "cell_type": "code",
   "execution_count": 44,
   "metadata": {},
   "outputs": [
    {
     "name": "stdout",
     "output_type": "stream",
     "text": [
      "<class 'pandas.core.frame.DataFrame'>\n",
      "RangeIndex: 100000 entries, 0 to 99999\n",
      "Data columns (total 5 columns):\n",
      " #   Column   Non-Null Count   Dtype  \n",
      "---  ------   --------------   -----  \n",
      " 0   id       100000 non-null  object \n",
      " 1   f0       100000 non-null  float64\n",
      " 2   f1       100000 non-null  float64\n",
      " 3   f2       100000 non-null  float64\n",
      " 4   product  100000 non-null  float64\n",
      "dtypes: float64(4), object(1)\n",
      "memory usage: 3.8+ MB\n"
     ]
    }
   ],
   "source": [
    "try:\n",
    "    data_1=pd.read_csv('geo_data_1.csv')\n",
    "except:\n",
    "    data_1=pd.read_csv('/datasets/geo_data_1.csv')\n",
    "data_1.info()"
   ]
  },
  {
   "cell_type": "code",
   "execution_count": 45,
   "metadata": {},
   "outputs": [
    {
     "data": {
      "text/html": [
       "<div>\n",
       "<style scoped>\n",
       "    .dataframe tbody tr th:only-of-type {\n",
       "        vertical-align: middle;\n",
       "    }\n",
       "\n",
       "    .dataframe tbody tr th {\n",
       "        vertical-align: top;\n",
       "    }\n",
       "\n",
       "    .dataframe thead th {\n",
       "        text-align: right;\n",
       "    }\n",
       "</style>\n",
       "<table border=\"1\" class=\"dataframe\">\n",
       "  <thead>\n",
       "    <tr style=\"text-align: right;\">\n",
       "      <th></th>\n",
       "      <th>f0</th>\n",
       "      <th>f1</th>\n",
       "      <th>f2</th>\n",
       "      <th>product</th>\n",
       "    </tr>\n",
       "  </thead>\n",
       "  <tbody>\n",
       "    <tr>\n",
       "      <th>count</th>\n",
       "      <td>100000.000000</td>\n",
       "      <td>100000.000000</td>\n",
       "      <td>100000.000000</td>\n",
       "      <td>100000.000000</td>\n",
       "    </tr>\n",
       "    <tr>\n",
       "      <th>mean</th>\n",
       "      <td>1.141296</td>\n",
       "      <td>-4.796579</td>\n",
       "      <td>2.494541</td>\n",
       "      <td>68.825000</td>\n",
       "    </tr>\n",
       "    <tr>\n",
       "      <th>std</th>\n",
       "      <td>8.965932</td>\n",
       "      <td>5.119872</td>\n",
       "      <td>1.703572</td>\n",
       "      <td>45.944423</td>\n",
       "    </tr>\n",
       "    <tr>\n",
       "      <th>min</th>\n",
       "      <td>-31.609576</td>\n",
       "      <td>-26.358598</td>\n",
       "      <td>-0.018144</td>\n",
       "      <td>0.000000</td>\n",
       "    </tr>\n",
       "    <tr>\n",
       "      <th>25%</th>\n",
       "      <td>-6.298551</td>\n",
       "      <td>-8.267985</td>\n",
       "      <td>1.000021</td>\n",
       "      <td>26.953261</td>\n",
       "    </tr>\n",
       "    <tr>\n",
       "      <th>50%</th>\n",
       "      <td>1.153055</td>\n",
       "      <td>-4.813172</td>\n",
       "      <td>2.011479</td>\n",
       "      <td>57.085625</td>\n",
       "    </tr>\n",
       "    <tr>\n",
       "      <th>75%</th>\n",
       "      <td>8.621015</td>\n",
       "      <td>-1.332816</td>\n",
       "      <td>3.999904</td>\n",
       "      <td>107.813044</td>\n",
       "    </tr>\n",
       "    <tr>\n",
       "      <th>max</th>\n",
       "      <td>29.421755</td>\n",
       "      <td>18.734063</td>\n",
       "      <td>5.019721</td>\n",
       "      <td>137.945408</td>\n",
       "    </tr>\n",
       "  </tbody>\n",
       "</table>\n",
       "</div>"
      ],
      "text/plain": [
       "                  f0             f1             f2        product\n",
       "count  100000.000000  100000.000000  100000.000000  100000.000000\n",
       "mean        1.141296      -4.796579       2.494541      68.825000\n",
       "std         8.965932       5.119872       1.703572      45.944423\n",
       "min       -31.609576     -26.358598      -0.018144       0.000000\n",
       "25%        -6.298551      -8.267985       1.000021      26.953261\n",
       "50%         1.153055      -4.813172       2.011479      57.085625\n",
       "75%         8.621015      -1.332816       3.999904     107.813044\n",
       "max        29.421755      18.734063       5.019721     137.945408"
      ]
     },
     "execution_count": 45,
     "metadata": {},
     "output_type": "execute_result"
    }
   ],
   "source": [
    "data_1.describe()"
   ]
  },
  {
   "cell_type": "code",
   "execution_count": 46,
   "metadata": {},
   "outputs": [
    {
     "name": "stdout",
     "output_type": "stream",
     "text": [
      "<class 'pandas.core.frame.DataFrame'>\n",
      "RangeIndex: 100000 entries, 0 to 99999\n",
      "Data columns (total 5 columns):\n",
      " #   Column   Non-Null Count   Dtype  \n",
      "---  ------   --------------   -----  \n",
      " 0   id       100000 non-null  object \n",
      " 1   f0       100000 non-null  float64\n",
      " 2   f1       100000 non-null  float64\n",
      " 3   f2       100000 non-null  float64\n",
      " 4   product  100000 non-null  float64\n",
      "dtypes: float64(4), object(1)\n",
      "memory usage: 3.8+ MB\n"
     ]
    }
   ],
   "source": [
    "try:\n",
    "    data_2=pd.read_csv('geo_data_2.csv')\n",
    "except:\n",
    "    data_2=pd.read_csv('/datasets/geo_data_2.csv')\n",
    "data_2.info()"
   ]
  },
  {
   "cell_type": "code",
   "execution_count": 47,
   "metadata": {
    "scrolled": false
   },
   "outputs": [
    {
     "data": {
      "text/html": [
       "<div>\n",
       "<style scoped>\n",
       "    .dataframe tbody tr th:only-of-type {\n",
       "        vertical-align: middle;\n",
       "    }\n",
       "\n",
       "    .dataframe tbody tr th {\n",
       "        vertical-align: top;\n",
       "    }\n",
       "\n",
       "    .dataframe thead th {\n",
       "        text-align: right;\n",
       "    }\n",
       "</style>\n",
       "<table border=\"1\" class=\"dataframe\">\n",
       "  <thead>\n",
       "    <tr style=\"text-align: right;\">\n",
       "      <th></th>\n",
       "      <th>f0</th>\n",
       "      <th>f1</th>\n",
       "      <th>f2</th>\n",
       "      <th>product</th>\n",
       "    </tr>\n",
       "  </thead>\n",
       "  <tbody>\n",
       "    <tr>\n",
       "      <th>count</th>\n",
       "      <td>100000.000000</td>\n",
       "      <td>100000.000000</td>\n",
       "      <td>100000.000000</td>\n",
       "      <td>100000.000000</td>\n",
       "    </tr>\n",
       "    <tr>\n",
       "      <th>mean</th>\n",
       "      <td>0.002023</td>\n",
       "      <td>-0.002081</td>\n",
       "      <td>2.495128</td>\n",
       "      <td>95.000000</td>\n",
       "    </tr>\n",
       "    <tr>\n",
       "      <th>std</th>\n",
       "      <td>1.732045</td>\n",
       "      <td>1.730417</td>\n",
       "      <td>3.473445</td>\n",
       "      <td>44.749921</td>\n",
       "    </tr>\n",
       "    <tr>\n",
       "      <th>min</th>\n",
       "      <td>-8.760004</td>\n",
       "      <td>-7.084020</td>\n",
       "      <td>-11.970335</td>\n",
       "      <td>0.000000</td>\n",
       "    </tr>\n",
       "    <tr>\n",
       "      <th>25%</th>\n",
       "      <td>-1.162288</td>\n",
       "      <td>-1.174820</td>\n",
       "      <td>0.130359</td>\n",
       "      <td>59.450441</td>\n",
       "    </tr>\n",
       "    <tr>\n",
       "      <th>50%</th>\n",
       "      <td>0.009424</td>\n",
       "      <td>-0.009482</td>\n",
       "      <td>2.484236</td>\n",
       "      <td>94.925613</td>\n",
       "    </tr>\n",
       "    <tr>\n",
       "      <th>75%</th>\n",
       "      <td>1.158535</td>\n",
       "      <td>1.163678</td>\n",
       "      <td>4.858794</td>\n",
       "      <td>130.595027</td>\n",
       "    </tr>\n",
       "    <tr>\n",
       "      <th>max</th>\n",
       "      <td>7.238262</td>\n",
       "      <td>7.844801</td>\n",
       "      <td>16.739402</td>\n",
       "      <td>190.029838</td>\n",
       "    </tr>\n",
       "  </tbody>\n",
       "</table>\n",
       "</div>"
      ],
      "text/plain": [
       "                  f0             f1             f2        product\n",
       "count  100000.000000  100000.000000  100000.000000  100000.000000\n",
       "mean        0.002023      -0.002081       2.495128      95.000000\n",
       "std         1.732045       1.730417       3.473445      44.749921\n",
       "min        -8.760004      -7.084020     -11.970335       0.000000\n",
       "25%        -1.162288      -1.174820       0.130359      59.450441\n",
       "50%         0.009424      -0.009482       2.484236      94.925613\n",
       "75%         1.158535       1.163678       4.858794     130.595027\n",
       "max         7.238262       7.844801      16.739402     190.029838"
      ]
     },
     "execution_count": 47,
     "metadata": {},
     "output_type": "execute_result"
    }
   ],
   "source": [
    "data_2.describe()"
   ]
  },
  {
   "cell_type": "markdown",
   "metadata": {},
   "source": [
    "### Preprocesamiento de datos"
   ]
  },
  {
   "cell_type": "markdown",
   "metadata": {},
   "source": [
    "Concatenamos los datasets en uno solo, añadimos la columna de ubicación 'reg' extraída del dataset de cada región y eliminamos la columna de identificación único de petróleo 'id'."
   ]
  },
  {
   "cell_type": "markdown",
   "metadata": {},
   "source": [
    "Usamos el método de escalamiento para las columnas de características f0, f1 y f2."
   ]
  },
  {
   "cell_type": "code",
   "execution_count": 49,
   "metadata": {},
   "outputs": [
    {
     "data": {
      "text/html": [
       "<div>\n",
       "<style scoped>\n",
       "    .dataframe tbody tr th:only-of-type {\n",
       "        vertical-align: middle;\n",
       "    }\n",
       "\n",
       "    .dataframe tbody tr th {\n",
       "        vertical-align: top;\n",
       "    }\n",
       "\n",
       "    .dataframe thead th {\n",
       "        text-align: right;\n",
       "    }\n",
       "</style>\n",
       "<table border=\"1\" class=\"dataframe\">\n",
       "  <thead>\n",
       "    <tr style=\"text-align: right;\">\n",
       "      <th></th>\n",
       "      <th>id</th>\n",
       "      <th>f0</th>\n",
       "      <th>f1</th>\n",
       "      <th>f2</th>\n",
       "      <th>product</th>\n",
       "    </tr>\n",
       "  </thead>\n",
       "  <tbody>\n",
       "    <tr>\n",
       "      <th>0</th>\n",
       "      <td>txEyH</td>\n",
       "      <td>0.235512</td>\n",
       "      <td>-1.482793</td>\n",
       "      <td>-0.394515</td>\n",
       "      <td>105.280062</td>\n",
       "    </tr>\n",
       "    <tr>\n",
       "      <th>1</th>\n",
       "      <td>2acmU</td>\n",
       "      <td>0.956946</td>\n",
       "      <td>-1.170246</td>\n",
       "      <td>0.573368</td>\n",
       "      <td>73.037750</td>\n",
       "    </tr>\n",
       "    <tr>\n",
       "      <th>2</th>\n",
       "      <td>409Wp</td>\n",
       "      <td>0.599101</td>\n",
       "      <td>-0.194581</td>\n",
       "      <td>-0.333326</td>\n",
       "      <td>85.265647</td>\n",
       "    </tr>\n",
       "    <tr>\n",
       "      <th>3</th>\n",
       "      <td>iJLyR</td>\n",
       "      <td>-0.610890</td>\n",
       "      <td>-0.220269</td>\n",
       "      <td>0.146516</td>\n",
       "      <td>168.620776</td>\n",
       "    </tr>\n",
       "    <tr>\n",
       "      <th>4</th>\n",
       "      <td>Xdl7t</td>\n",
       "      <td>1.706773</td>\n",
       "      <td>-0.187797</td>\n",
       "      <td>0.692414</td>\n",
       "      <td>154.036647</td>\n",
       "    </tr>\n",
       "    <tr>\n",
       "      <th>...</th>\n",
       "      <td>...</td>\n",
       "      <td>...</td>\n",
       "      <td>...</td>\n",
       "      <td>...</td>\n",
       "      <td>...</td>\n",
       "    </tr>\n",
       "    <tr>\n",
       "      <th>99995</th>\n",
       "      <td>DLsed</td>\n",
       "      <td>0.540861</td>\n",
       "      <td>0.239498</td>\n",
       "      <td>1.099890</td>\n",
       "      <td>110.744026</td>\n",
       "    </tr>\n",
       "    <tr>\n",
       "      <th>99996</th>\n",
       "      <td>QKivN</td>\n",
       "      <td>1.023149</td>\n",
       "      <td>-1.254384</td>\n",
       "      <td>-0.378278</td>\n",
       "      <td>122.346843</td>\n",
       "    </tr>\n",
       "    <tr>\n",
       "      <th>99997</th>\n",
       "      <td>3rnvd</td>\n",
       "      <td>0.606961</td>\n",
       "      <td>-0.458648</td>\n",
       "      <td>-1.185554</td>\n",
       "      <td>64.375443</td>\n",
       "    </tr>\n",
       "    <tr>\n",
       "      <th>99998</th>\n",
       "      <td>7kl59</td>\n",
       "      <td>0.570920</td>\n",
       "      <td>-1.543771</td>\n",
       "      <td>-0.282855</td>\n",
       "      <td>74.040764</td>\n",
       "    </tr>\n",
       "    <tr>\n",
       "      <th>99999</th>\n",
       "      <td>1CWhH</td>\n",
       "      <td>1.450212</td>\n",
       "      <td>-1.024046</td>\n",
       "      <td>0.991371</td>\n",
       "      <td>149.633246</td>\n",
       "    </tr>\n",
       "  </tbody>\n",
       "</table>\n",
       "<p>100000 rows × 5 columns</p>\n",
       "</div>"
      ],
      "text/plain": [
       "          id        f0        f1        f2     product\n",
       "0      txEyH  0.235512 -1.482793 -0.394515  105.280062\n",
       "1      2acmU  0.956946 -1.170246  0.573368   73.037750\n",
       "2      409Wp  0.599101 -0.194581 -0.333326   85.265647\n",
       "3      iJLyR -0.610890 -0.220269  0.146516  168.620776\n",
       "4      Xdl7t  1.706773 -0.187797  0.692414  154.036647\n",
       "...      ...       ...       ...       ...         ...\n",
       "99995  DLsed  0.540861  0.239498  1.099890  110.744026\n",
       "99996  QKivN  1.023149 -1.254384 -0.378278  122.346843\n",
       "99997  3rnvd  0.606961 -0.458648 -1.185554   64.375443\n",
       "99998  7kl59  0.570920 -1.543771 -0.282855   74.040764\n",
       "99999  1CWhH  1.450212 -1.024046  0.991371  149.633246\n",
       "\n",
       "[100000 rows x 5 columns]"
      ]
     },
     "execution_count": 49,
     "metadata": {},
     "output_type": "execute_result"
    }
   ],
   "source": [
    "numeric = ['f0', 'f1', 'f2']\n",
    "\n",
    "scaler=StandardScaler()\n",
    "scaler.fit(data_0[numeric])\n",
    "data_0[numeric]=scaler.transform(data_0[numeric])\n",
    "data_0"
   ]
  },
  {
   "cell_type": "code",
   "execution_count": 50,
   "metadata": {},
   "outputs": [
    {
     "data": {
      "text/html": [
       "<div>\n",
       "<style scoped>\n",
       "    .dataframe tbody tr th:only-of-type {\n",
       "        vertical-align: middle;\n",
       "    }\n",
       "\n",
       "    .dataframe tbody tr th {\n",
       "        vertical-align: top;\n",
       "    }\n",
       "\n",
       "    .dataframe thead th {\n",
       "        text-align: right;\n",
       "    }\n",
       "</style>\n",
       "<table border=\"1\" class=\"dataframe\">\n",
       "  <thead>\n",
       "    <tr style=\"text-align: right;\">\n",
       "      <th></th>\n",
       "      <th>id</th>\n",
       "      <th>f0</th>\n",
       "      <th>f1</th>\n",
       "      <th>f2</th>\n",
       "      <th>product</th>\n",
       "    </tr>\n",
       "  </thead>\n",
       "  <tbody>\n",
       "    <tr>\n",
       "      <th>0</th>\n",
       "      <td>kBEdx</td>\n",
       "      <td>-1.800451</td>\n",
       "      <td>-0.679595</td>\n",
       "      <td>-1.467757</td>\n",
       "      <td>3.179103</td>\n",
       "    </tr>\n",
       "    <tr>\n",
       "      <th>1</th>\n",
       "      <td>62mP7</td>\n",
       "      <td>1.464528</td>\n",
       "      <td>0.258112</td>\n",
       "      <td>-0.877783</td>\n",
       "      <td>26.953261</td>\n",
       "    </tr>\n",
       "    <tr>\n",
       "      <th>2</th>\n",
       "      <td>vyE1P</td>\n",
       "      <td>0.571264</td>\n",
       "      <td>-0.224969</td>\n",
       "      <td>1.471398</td>\n",
       "      <td>134.766305</td>\n",
       "    </tr>\n",
       "    <tr>\n",
       "      <th>3</th>\n",
       "      <td>KcrkZ</td>\n",
       "      <td>-1.586290</td>\n",
       "      <td>-1.310484</td>\n",
       "      <td>1.470373</td>\n",
       "      <td>137.945408</td>\n",
       "    </tr>\n",
       "    <tr>\n",
       "      <th>4</th>\n",
       "      <td>AHL4O</td>\n",
       "      <td>1.289432</td>\n",
       "      <td>-0.654483</td>\n",
       "      <td>1.473278</td>\n",
       "      <td>134.766305</td>\n",
       "    </tr>\n",
       "    <tr>\n",
       "      <th>...</th>\n",
       "      <td>...</td>\n",
       "      <td>...</td>\n",
       "      <td>...</td>\n",
       "      <td>...</td>\n",
       "      <td>...</td>\n",
       "    </tr>\n",
       "    <tr>\n",
       "      <th>99995</th>\n",
       "      <td>QywKC</td>\n",
       "      <td>0.936253</td>\n",
       "      <td>-0.406567</td>\n",
       "      <td>-0.291298</td>\n",
       "      <td>53.906522</td>\n",
       "    </tr>\n",
       "    <tr>\n",
       "      <th>99996</th>\n",
       "      <td>ptvty</td>\n",
       "      <td>-1.260548</td>\n",
       "      <td>-1.515967</td>\n",
       "      <td>1.473993</td>\n",
       "      <td>137.945408</td>\n",
       "    </tr>\n",
       "    <tr>\n",
       "      <th>99997</th>\n",
       "      <td>09gWa</td>\n",
       "      <td>-0.950289</td>\n",
       "      <td>0.334478</td>\n",
       "      <td>1.469925</td>\n",
       "      <td>137.945408</td>\n",
       "    </tr>\n",
       "    <tr>\n",
       "      <th>99998</th>\n",
       "      <td>rqwUm</td>\n",
       "      <td>-0.053044</td>\n",
       "      <td>-0.264854</td>\n",
       "      <td>-0.877217</td>\n",
       "      <td>30.132364</td>\n",
       "    </tr>\n",
       "    <tr>\n",
       "      <th>99999</th>\n",
       "      <td>relB0</td>\n",
       "      <td>-0.509424</td>\n",
       "      <td>-0.585505</td>\n",
       "      <td>-1.466244</td>\n",
       "      <td>3.179103</td>\n",
       "    </tr>\n",
       "  </tbody>\n",
       "</table>\n",
       "<p>100000 rows × 5 columns</p>\n",
       "</div>"
      ],
      "text/plain": [
       "          id        f0        f1        f2     product\n",
       "0      kBEdx -1.800451 -0.679595 -1.467757    3.179103\n",
       "1      62mP7  1.464528  0.258112 -0.877783   26.953261\n",
       "2      vyE1P  0.571264 -0.224969  1.471398  134.766305\n",
       "3      KcrkZ -1.586290 -1.310484  1.470373  137.945408\n",
       "4      AHL4O  1.289432 -0.654483  1.473278  134.766305\n",
       "...      ...       ...       ...       ...         ...\n",
       "99995  QywKC  0.936253 -0.406567 -0.291298   53.906522\n",
       "99996  ptvty -1.260548 -1.515967  1.473993  137.945408\n",
       "99997  09gWa -0.950289  0.334478  1.469925  137.945408\n",
       "99998  rqwUm -0.053044 -0.264854 -0.877217   30.132364\n",
       "99999  relB0 -0.509424 -0.585505 -1.466244    3.179103\n",
       "\n",
       "[100000 rows x 5 columns]"
      ]
     },
     "execution_count": 50,
     "metadata": {},
     "output_type": "execute_result"
    }
   ],
   "source": [
    "scaler=StandardScaler()\n",
    "scaler.fit(data_1[numeric])\n",
    "data_1[numeric]=scaler.transform(data_1[numeric])\n",
    "data_1"
   ]
  },
  {
   "cell_type": "code",
   "execution_count": 51,
   "metadata": {},
   "outputs": [
    {
     "data": {
      "text/html": [
       "<div>\n",
       "<style scoped>\n",
       "    .dataframe tbody tr th:only-of-type {\n",
       "        vertical-align: middle;\n",
       "    }\n",
       "\n",
       "    .dataframe tbody tr th {\n",
       "        vertical-align: top;\n",
       "    }\n",
       "\n",
       "    .dataframe thead th {\n",
       "        text-align: right;\n",
       "    }\n",
       "</style>\n",
       "<table border=\"1\" class=\"dataframe\">\n",
       "  <thead>\n",
       "    <tr style=\"text-align: right;\">\n",
       "      <th></th>\n",
       "      <th>id</th>\n",
       "      <th>f0</th>\n",
       "      <th>f1</th>\n",
       "      <th>f2</th>\n",
       "      <th>product</th>\n",
       "    </tr>\n",
       "  </thead>\n",
       "  <tbody>\n",
       "    <tr>\n",
       "      <th>0</th>\n",
       "      <td>fwXo0</td>\n",
       "      <td>-0.663387</td>\n",
       "      <td>0.557908</td>\n",
       "      <td>-0.957007</td>\n",
       "      <td>27.758673</td>\n",
       "    </tr>\n",
       "    <tr>\n",
       "      <th>1</th>\n",
       "      <td>WJtFt</td>\n",
       "      <td>0.150548</td>\n",
       "      <td>0.157142</td>\n",
       "      <td>-1.446788</td>\n",
       "      <td>56.069697</td>\n",
       "    </tr>\n",
       "    <tr>\n",
       "      <th>2</th>\n",
       "      <td>ovLUW</td>\n",
       "      <td>0.111178</td>\n",
       "      <td>0.168235</td>\n",
       "      <td>-2.326682</td>\n",
       "      <td>62.871910</td>\n",
       "    </tr>\n",
       "    <tr>\n",
       "      <th>3</th>\n",
       "      <td>q6cA6</td>\n",
       "      <td>1.289833</td>\n",
       "      <td>-0.318815</td>\n",
       "      <td>-0.450590</td>\n",
       "      <td>114.572842</td>\n",
       "    </tr>\n",
       "    <tr>\n",
       "      <th>4</th>\n",
       "      <td>WPMUX</td>\n",
       "      <td>-0.299079</td>\n",
       "      <td>0.993029</td>\n",
       "      <td>0.979978</td>\n",
       "      <td>149.600746</td>\n",
       "    </tr>\n",
       "    <tr>\n",
       "      <th>...</th>\n",
       "      <td>...</td>\n",
       "      <td>...</td>\n",
       "      <td>...</td>\n",
       "      <td>...</td>\n",
       "      <td>...</td>\n",
       "    </tr>\n",
       "    <tr>\n",
       "      <th>99995</th>\n",
       "      <td>4GxBu</td>\n",
       "      <td>-1.027149</td>\n",
       "      <td>0.651465</td>\n",
       "      <td>1.084879</td>\n",
       "      <td>172.327046</td>\n",
       "    </tr>\n",
       "    <tr>\n",
       "      <th>99996</th>\n",
       "      <td>YKFjq</td>\n",
       "      <td>-0.729514</td>\n",
       "      <td>-0.515917</td>\n",
       "      <td>0.008469</td>\n",
       "      <td>138.748846</td>\n",
       "    </tr>\n",
       "    <tr>\n",
       "      <th>99997</th>\n",
       "      <td>tKPY3</td>\n",
       "      <td>-0.693956</td>\n",
       "      <td>-1.708011</td>\n",
       "      <td>0.784321</td>\n",
       "      <td>157.080080</td>\n",
       "    </tr>\n",
       "    <tr>\n",
       "      <th>99998</th>\n",
       "      <td>nmxp2</td>\n",
       "      <td>-1.398307</td>\n",
       "      <td>1.398110</td>\n",
       "      <td>-2.315745</td>\n",
       "      <td>51.795253</td>\n",
       "    </tr>\n",
       "    <tr>\n",
       "      <th>99999</th>\n",
       "      <td>V9kWn</td>\n",
       "      <td>-1.474244</td>\n",
       "      <td>-1.169403</td>\n",
       "      <td>1.035220</td>\n",
       "      <td>102.775767</td>\n",
       "    </tr>\n",
       "  </tbody>\n",
       "</table>\n",
       "<p>100000 rows × 5 columns</p>\n",
       "</div>"
      ],
      "text/plain": [
       "          id        f0        f1        f2     product\n",
       "0      fwXo0 -0.663387  0.557908 -0.957007   27.758673\n",
       "1      WJtFt  0.150548  0.157142 -1.446788   56.069697\n",
       "2      ovLUW  0.111178  0.168235 -2.326682   62.871910\n",
       "3      q6cA6  1.289833 -0.318815 -0.450590  114.572842\n",
       "4      WPMUX -0.299079  0.993029  0.979978  149.600746\n",
       "...      ...       ...       ...       ...         ...\n",
       "99995  4GxBu -1.027149  0.651465  1.084879  172.327046\n",
       "99996  YKFjq -0.729514 -0.515917  0.008469  138.748846\n",
       "99997  tKPY3 -0.693956 -1.708011  0.784321  157.080080\n",
       "99998  nmxp2 -1.398307  1.398110 -2.315745   51.795253\n",
       "99999  V9kWn -1.474244 -1.169403  1.035220  102.775767\n",
       "\n",
       "[100000 rows x 5 columns]"
      ]
     },
     "execution_count": 51,
     "metadata": {},
     "output_type": "execute_result"
    }
   ],
   "source": [
    "scaler=StandardScaler()\n",
    "scaler.fit(data_2[numeric])\n",
    "data_2[numeric]=scaler.transform(data_2[numeric])\n",
    "data_2"
   ]
  },
  {
   "cell_type": "markdown",
   "metadata": {},
   "source": [
    "## Entrenamiento y evaluación en conjuntos de validación"
   ]
  },
  {
   "cell_type": "markdown",
   "metadata": {},
   "source": [
    "Debido a que queremos predecir una variable numérica (volumen del barril de petróleo), usaremos el modelo de regresión lineal."
   ]
  },
  {
   "cell_type": "markdown",
   "metadata": {},
   "source": [
    "### Segmentación de datos"
   ]
  },
  {
   "cell_type": "markdown",
   "metadata": {},
   "source": [
    "Los datasets son divididos en 'features' y 'target' donde features serán los datasets que contienen las variables que guiarán al modelo para predecir el objetivo target."
   ]
  },
  {
   "cell_type": "code",
   "execution_count": 52,
   "metadata": {},
   "outputs": [],
   "source": [
    "features_A=data_0.drop(['id','product'],axis=1)\n",
    "target_A=data_0['product']\n",
    "features_B=data_1.drop(['id','product'],axis=1)\n",
    "target_B=data_1['product']\n",
    "features_C=data_2.drop(['id','product'],axis=1)\n",
    "target_C=data_2['product']"
   ]
  },
  {
   "cell_type": "markdown",
   "metadata": {},
   "source": [
    "Separamos los datasets en conjuntos de entrenamiento (train) y validación (valid)."
   ]
  },
  {
   "cell_type": "code",
   "execution_count": 53,
   "metadata": {},
   "outputs": [],
   "source": [
    "features_train_A, features_valid_A, target_train_A, target_valid_A = train_test_split(features_A,target_A,test_size=0.25,random_state=54321)\n",
    "features_train_B, features_valid_B, target_train_B, target_valid_B = train_test_split(features_B,target_B,test_size=0.25,random_state=54321)\n",
    "features_train_C, features_valid_C, target_train_C, target_valid_C = train_test_split(features_C,target_C,test_size=0.25,random_state=54321)"
   ]
  },
  {
   "cell_type": "markdown",
   "metadata": {},
   "source": [
    "### Regresión lineal en región A"
   ]
  },
  {
   "cell_type": "code",
   "execution_count": 54,
   "metadata": {},
   "outputs": [],
   "source": [
    "model_A = LinearRegression() \n",
    "model_A.fit(features_train_A,target_train_A) \n",
    "predictions_valid_A = model_A.predict(features_valid_A)"
   ]
  },
  {
   "cell_type": "code",
   "execution_count": 139,
   "metadata": {},
   "outputs": [
    {
     "name": "stdout",
     "output_type": "stream",
     "text": [
      "Volumen promedio de las reservas previstas en región A: 92.15921155743655\n",
      "Volumen promedio de las reservas reales en región A: 92.58379661728391\n"
     ]
    }
   ],
   "source": [
    "print('Volumen promedio de las reservas previstas en región A:',predictions_valid_A.mean())\n",
    "print('Volumen promedio de las reservas reales en región A:',target_valid_A.mean())"
   ]
  },
  {
   "cell_type": "markdown",
   "metadata": {},
   "source": [
    "Calculamos la RECM en el conjunto de validación."
   ]
  },
  {
   "cell_type": "code",
   "execution_count": 140,
   "metadata": {},
   "outputs": [
    {
     "name": "stdout",
     "output_type": "stream",
     "text": [
      "RECM del modelo de regresión lineal en el conjunto de validación en región A: 37.68341093860808\n"
     ]
    }
   ],
   "source": [
    "result = mean_squared_error(target_valid_A,predictions_valid_A)**0.5\n",
    "print( \"RECM del modelo de regresión lineal en el conjunto de validación en región A:\", result)"
   ]
  },
  {
   "cell_type": "markdown",
   "metadata": {},
   "source": [
    "### Regresión lineal en región B"
   ]
  },
  {
   "cell_type": "code",
   "execution_count": 59,
   "metadata": {},
   "outputs": [],
   "source": [
    "model_B = LinearRegression() \n",
    "model_B.fit(features_train_B,target_train_B) \n",
    "predictions_valid_B = model_B.predict(features_valid_B)"
   ]
  },
  {
   "cell_type": "code",
   "execution_count": 141,
   "metadata": {},
   "outputs": [
    {
     "name": "stdout",
     "output_type": "stream",
     "text": [
      "Volumen promedio de las reservas previstas en región B: 68.44594093153303\n",
      "Volumen promedio de las reservas reales en región B: 68.44435360774597\n"
     ]
    }
   ],
   "source": [
    "print('Volumen promedio de las reservas previstas en región B:',predictions_valid_B.mean())\n",
    "print('Volumen promedio de las reservas reales en región B:',target_valid_B.mean())"
   ]
  },
  {
   "cell_type": "markdown",
   "metadata": {},
   "source": [
    "Calculamos la RECM en el conjunto de validación."
   ]
  },
  {
   "cell_type": "code",
   "execution_count": 142,
   "metadata": {},
   "outputs": [
    {
     "name": "stdout",
     "output_type": "stream",
     "text": [
      "RECM del modelo de regresión lineal en el conjunto de validación en región B: 0.892281970848147\n"
     ]
    }
   ],
   "source": [
    "result = mean_squared_error(target_valid_B,predictions_valid_B)**0.5\n",
    "print( \"RECM del modelo de regresión lineal en el conjunto de validación en región B:\", result)"
   ]
  },
  {
   "cell_type": "markdown",
   "metadata": {},
   "source": [
    "### Regresión lineal en región C"
   ]
  },
  {
   "cell_type": "code",
   "execution_count": 64,
   "metadata": {},
   "outputs": [],
   "source": [
    "model_C = LinearRegression() \n",
    "model_C.fit(features_train_C,target_train_C) \n",
    "predictions_valid_C = model_C.predict(features_valid_C)"
   ]
  },
  {
   "cell_type": "code",
   "execution_count": 143,
   "metadata": {},
   "outputs": [
    {
     "name": "stdout",
     "output_type": "stream",
     "text": [
      "Volumen promedio de las reservas previstas en región C: 94.92229500787454\n",
      "Volumen promedio de las reservas reales en región C: 95.07834473652275\n"
     ]
    }
   ],
   "source": [
    "print('Volumen promedio de las reservas previstas en región C:',predictions_valid_C.mean())\n",
    "print('Volumen promedio de las reservas reales en región C:',target_valid_C.mean())"
   ]
  },
  {
   "cell_type": "markdown",
   "metadata": {},
   "source": [
    "Calculamos la RECM en el conjunto de validación."
   ]
  },
  {
   "cell_type": "code",
   "execution_count": 144,
   "metadata": {},
   "outputs": [
    {
     "name": "stdout",
     "output_type": "stream",
     "text": [
      "RECM del modelo de regresión lineal en el conjunto de validación en región C: 40.15250541784856\n"
     ]
    }
   ],
   "source": [
    "result = mean_squared_error(target_valid_C,predictions_valid_C)**0.5\n",
    "print( \"RECM del modelo de regresión lineal en el conjunto de validación en región C:\", result)"
   ]
  },
  {
   "cell_type": "markdown",
   "metadata": {},
   "source": [
    "### Conclusiones"
   ]
  },
  {
   "cell_type": "markdown",
   "metadata": {},
   "source": [
    "- Los volúmenes promedios de las reservas previstas son similares a los volúmenes promedios reales en cada región.\n",
    "- La región A presenta el mayor promedio de volumen previsto, seguido de la región C y muy por debajo se encuentra la región B.\n",
    "- La región B es la única región que presenta un RECM bajo."
   ]
  },
  {
   "cell_type": "markdown",
   "metadata": {},
   "source": [
    "## Cálculo de ganancias"
   ]
  },
  {
   "cell_type": "markdown",
   "metadata": {},
   "source": [
    "Los valores clave para los cálculos son los volúmenes predichos y los volúmenes reales los cuales fueron guardados en las variables 'predictions_valid' y target_valid' respectivamente."
   ]
  },
  {
   "cell_type": "code",
   "execution_count": 73,
   "metadata": {
    "scrolled": false
   },
   "outputs": [],
   "source": [
    "predictions_valid_A=pd.Series(predictions_valid_A)\n",
    "predictions_valid_A.index=target_valid_A.index\n",
    "\n",
    "predictions_valid_B=pd.Series(predictions_valid_B)\n",
    "predictions_valid_B.index=target_valid_B.index\n",
    "\n",
    "predictions_valid_C=pd.Series(predictions_valid_C)\n",
    "predictions_valid_C.index=target_valid_C.index"
   ]
  },
  {
   "cell_type": "markdown",
   "metadata": {},
   "source": [
    "Calculamos el volumen de reservas suficiente para desarrollar un nuevo pozo sin pérdidas. Cada pozo de los 200 escogidos generará 4500 dólares por unidad de producto. Además, el presupuesto para cada pozo es igual al presupuesto total dividido entre el número de escogidos (200)."
   ]
  },
  {
   "cell_type": "code",
   "execution_count": 81,
   "metadata": {},
   "outputs": [
    {
     "name": "stdout",
     "output_type": "stream",
     "text": [
      "Volumen suficiente por pozo: 111.11111111111111\n"
     ]
    }
   ],
   "source": [
    "presupuesto=100000000\n",
    "N=200\n",
    "ingreso_pozo=4500\n",
    "\n",
    "vol_suficiente=presupuesto/(N*ingreso_pozo)\n",
    "\n",
    "print('Volumen suficiente por pozo:',vol_suficiente)"
   ]
  },
  {
   "cell_type": "code",
   "execution_count": 84,
   "metadata": {},
   "outputs": [
    {
     "name": "stdout",
     "output_type": "stream",
     "text": [
      "Volumen medio de region A: 92.50000000000001\n",
      "Volumen medio de region B: 68.82500000000002\n",
      "Volumen medio de region C: 95.00000000000004\n"
     ]
    }
   ],
   "source": [
    "print('Volumen medio de region A:', data_0['product'].mean())\n",
    "print('Volumen medio de region B:', data_1['product'].mean())\n",
    "print('Volumen medio de region C:', data_2['product'].mean())"
   ]
  },
  {
   "cell_type": "markdown",
   "metadata": {},
   "source": [
    "Para que haya ganancia, cada pozo debería sacar en promedio un volumen de reservas de barriles superior a 111.1 (miles de barriles); sin embargo, el promedio por cada región es inferior a tal número. La región que más se acerca es la región C, seguido de la región A y muy por debajo la región B. \n",
    "\n",
    "A pesar de esto, es probable que hayan regiones que contengan pozos con reservas de barriles muy superior a la media."
   ]
  },
  {
   "cell_type": "markdown",
   "metadata": {},
   "source": [
    "### Predicciones"
   ]
  },
  {
   "cell_type": "markdown",
   "metadata": {},
   "source": [
    "Se realizó una función que determine el volumen total sacado de los pozos en los que se predijo que habría mayor cantidad de volumen de barril y sus ingresos."
   ]
  },
  {
   "cell_type": "code",
   "execution_count": 98,
   "metadata": {},
   "outputs": [],
   "source": [
    "def ingresos(target, predictions, count):\n",
    "    selected = target[predictions.sort_values(ascending=False).index][:count]\n",
    "    return 4500*selected.sum(), selected.sum()"
   ]
  },
  {
   "cell_type": "code",
   "execution_count": 154,
   "metadata": {},
   "outputs": [
    {
     "name": "stdout",
     "output_type": "stream",
     "text": [
      "Ingresos totales de región A: 131786315.95503962\n",
      "Volumen total extraído de región A: 29285.847990008806\n"
     ]
    }
   ],
   "source": [
    "ingreso_total_A, volumen_total_A= ingresos(target_valid_A,predictions_valid_A, 200)\n",
    "print('Ingresos totales de región A:', ingreso_total_A)\n",
    "print('Volumen total extraído de región A:', volumen_total_A)"
   ]
  },
  {
   "cell_type": "code",
   "execution_count": 155,
   "metadata": {},
   "outputs": [
    {
     "name": "stdout",
     "output_type": "stream",
     "text": [
      "Ingresos totales de región B: 124150866.96681511\n",
      "Volumen total extraído de región B: 27589.081548181137\n"
     ]
    }
   ],
   "source": [
    "ingreso_total_B, volumen_total_B= ingresos(target_valid_B,predictions_valid_B, 200)\n",
    "print('Ingresos totales de región B:', ingreso_total_B)\n",
    "print('Volumen total extraído de región B:', volumen_total_B)"
   ]
  },
  {
   "cell_type": "code",
   "execution_count": 156,
   "metadata": {},
   "outputs": [
    {
     "name": "stdout",
     "output_type": "stream",
     "text": [
      "Ingresos totales de región C: 124137856.36202805\n",
      "Volumen total extraído de región C: 27586.190302672898\n"
     ]
    }
   ],
   "source": [
    "ingreso_total_C, volumen_total_C= ingresos(target_valid_C,predictions_valid_C, 200)\n",
    "print('Ingresos totales de región C:', ingreso_total_C)\n",
    "print('Volumen total extraído de región C:', volumen_total_C)"
   ]
  },
  {
   "cell_type": "markdown",
   "metadata": {},
   "source": [
    "De acuerdo con estos datos, todas las regiones generarían ingresos sin pérdidas. La región que generaría mayor ingresos sería la región A."
   ]
  },
  {
   "cell_type": "markdown",
   "metadata": {},
   "source": [
    "Se realizó una función que sea la técnica bootstrapping con 1000 muestras para encontrar la distribución del beneficio. Cada muestra contendrá los datos de 500 pozos de los cuales se escogerán los mejores 200. Se estableció el intervalo de confianza de 95 % y se calculó el riesgo de pérdida."
   ]
  },
  {
   "cell_type": "code",
   "execution_count": 148,
   "metadata": {},
   "outputs": [],
   "source": [
    "def bootstrap(target, predictions):\n",
    "    state = np.random.RandomState(12345)\n",
    "    values = []\n",
    "    for i in range(1000):\n",
    "        target_subsample=target.sample(n=500,replace=True,random_state=state)\n",
    "        pred_subsample = predictions[target_subsample.index]\n",
    "        values.append(ingresos(target_subsample,pred_subsample,200)[0])\n",
    "    values=pd.Series(values)\n",
    "    return values"
   ]
  },
  {
   "cell_type": "markdown",
   "metadata": {},
   "source": [
    "### Riesgos y ganancias de región  A"
   ]
  },
  {
   "cell_type": "code",
   "execution_count": 149,
   "metadata": {},
   "outputs": [
    {
     "name": "stdout",
     "output_type": "stream",
     "text": [
      "Ingresos promedio: 103993378.99530147\n",
      "Cuantil del 2.5% : 98501841.2518996\n",
      "Cuantil del 97.5% : 109491219.83927038\n"
     ]
    }
   ],
   "source": [
    "values_A = bootstrap(target_valid_A,predictions_valid_A)\n",
    "lower_A = values_A.quantile(0.025)\n",
    "upper_A = values_A.quantile(0.975)\n",
    "\n",
    "mean_A = values_A.mean()\n",
    "print(\"Ingresos promedio:\", mean_A)\n",
    "print(\"Cuantil del 2.5% :\", lower_A)\n",
    "print(\"Cuantil del 97.5% :\", upper_A)"
   ]
  },
  {
   "cell_type": "markdown",
   "metadata": {},
   "source": [
    "El riesgo es calculado por la cantidad de valores negativos de la resta entre el valor obtenido - el presupuesto dividido entre el número de iteraciones realizadas (1000). Para el cálculo de porcentaje, este valor es multiplicado por 10.\n"
   ]
  },
  {
   "cell_type": "code",
   "execution_count": 153,
   "metadata": {},
   "outputs": [
    {
     "name": "stdout",
     "output_type": "stream",
     "text": [
      "Riesgo de pérdidas para la región A: 7.1 %\n"
     ]
    }
   ],
   "source": [
    "riesgo_A=((values_A-100000000)<0).sum()/10\n",
    "print('Riesgo de pérdidas para la región A:', riesgo_A, '%')"
   ]
  },
  {
   "cell_type": "markdown",
   "metadata": {},
   "source": [
    "### Riesgos y ganancias de región B"
   ]
  },
  {
   "cell_type": "code",
   "execution_count": 150,
   "metadata": {},
   "outputs": [
    {
     "name": "stdout",
     "output_type": "stream",
     "text": [
      "Ingresos promedio: 104755697.57812019\n",
      "Cuantil del 2.5% : 100830641.17303607\n",
      "Cuantil del 97.5% : 109115923.29786794\n"
     ]
    }
   ],
   "source": [
    "values_B = bootstrap(target_valid_B,predictions_valid_B)\n",
    "lower_B = values_B.quantile(0.025)\n",
    "upper_B = values_B.quantile(0.975)\n",
    "\n",
    "mean_B = values_B.mean()\n",
    "print(\"Ingresos promedio:\", mean_B)\n",
    "print(\"Cuantil del 2.5% :\", lower_B)\n",
    "print(\"Cuantil del 97.5% :\", upper_B)"
   ]
  },
  {
   "cell_type": "markdown",
   "metadata": {},
   "source": [
    "Calculamos el riesgo para esta región."
   ]
  },
  {
   "cell_type": "code",
   "execution_count": 151,
   "metadata": {
    "scrolled": true
   },
   "outputs": [
    {
     "name": "stdout",
     "output_type": "stream",
     "text": [
      "Riesgo de pérdidas para la región B: 1.2 %\n"
     ]
    }
   ],
   "source": [
    "riesgo_B=((values_B-100000000)<0).sum()/10\n",
    "print('Riesgo de pérdidas para la región B:', riesgo_B, '%')"
   ]
  },
  {
   "cell_type": "markdown",
   "metadata": {},
   "source": [
    "### Riesgos y ganancias de región C"
   ]
  },
  {
   "cell_type": "code",
   "execution_count": 152,
   "metadata": {},
   "outputs": [
    {
     "name": "stdout",
     "output_type": "stream",
     "text": [
      "Ingresos promedio: 104313020.83419436\n",
      "Cuantil del 2.5% : 98396067.59731491\n",
      "Cuantil del 97.5% : 109583459.10098052\n"
     ]
    }
   ],
   "source": [
    "values_C = bootstrap(target_valid_C,predictions_valid_C)\n",
    "lower_C = values_C.quantile(0.025)\n",
    "upper_C = values_C.quantile(0.975)\n",
    "\n",
    "mean_C = values_C.mean()\n",
    "print(\"Ingresos promedio:\", mean_C)\n",
    "print(\"Cuantil del 2.5% :\", lower_C)\n",
    "print(\"Cuantil del 97.5% :\", upper_C)"
   ]
  },
  {
   "cell_type": "markdown",
   "metadata": {},
   "source": [
    "Calculamos el riesgo para esta región."
   ]
  },
  {
   "cell_type": "code",
   "execution_count": 137,
   "metadata": {},
   "outputs": [
    {
     "name": "stdout",
     "output_type": "stream",
     "text": [
      "Riesgo de pérdidas para la región C: 6.7 %\n"
     ]
    }
   ],
   "source": [
    "riesgo_C=((values_C-100000000)<0).sum()/10\n",
    "print('Riesgo de pérdidas para la región C:', riesgo_C, '%')"
   ]
  },
  {
   "cell_type": "markdown",
   "metadata": {},
   "source": [
    "De acuerdo con la técnica de bootstrapping, el cuantil superior de 97.5% nos brinda en las tres regiones un monto de ganancia muy similar. Solo la región B mantuvo su intervalo de confianza superior al presupuesto de 100000000 USD. El menor riesgo de pérdida lo tiene la región B, seguido de la región C."
   ]
  },
  {
   "cell_type": "markdown",
   "metadata": {},
   "source": [
    "## Conclusiones"
   ]
  },
  {
   "cell_type": "markdown",
   "metadata": {},
   "source": [
    "- El valor de RECM nos indicó que el volumen promedio por región no era una buena guía en la que basar la recomendación.\n",
    "- A pesar que el promedio de volumen de barriles sea superior en la región A y C, el intervalo de confianza del 95% nos indica que es más seguro ubicar en la región B.\n",
    "- Debido a que solo la región B presenta un riesgo de pérdida ingerior a 2.5 %, es la más adecuada para ubicar nuevos pozos."
   ]
  }
 ],
 "metadata": {
  "kernelspec": {
   "display_name": "Python 3 (ipykernel)",
   "language": "python",
   "name": "python3"
  },
  "language_info": {
   "codemirror_mode": {
    "name": "ipython",
    "version": 3
   },
   "file_extension": ".py",
   "mimetype": "text/x-python",
   "name": "python",
   "nbconvert_exporter": "python",
   "pygments_lexer": "ipython3",
   "version": "3.9.5"
  },
  "toc": {
   "base_numbering": 1,
   "nav_menu": {},
   "number_sections": true,
   "sideBar": true,
   "skip_h1_title": true,
   "title_cell": "Table of Contents",
   "title_sidebar": "Contents",
   "toc_cell": false,
   "toc_position": {
    "height": "calc(100% - 180px)",
    "left": "10px",
    "top": "150px",
    "width": "165px"
   },
   "toc_section_display": true,
   "toc_window_display": true
  }
 },
 "nbformat": 4,
 "nbformat_minor": 2
}
